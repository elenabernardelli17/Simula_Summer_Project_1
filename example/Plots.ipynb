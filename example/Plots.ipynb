{
 "cells": [
  {
   "cell_type": "code",
   "execution_count": 1,
   "metadata": {},
   "outputs": [],
   "source": [
    "import dolfin as df\n",
    "import pandas as pd\n",
    "import os\n",
    "import pickle\n",
    "import seaborn as sns\n",
    "from IPython.display import display, HTML\n",
    "import numpy as np\n",
    "import matplotlib.pyplot as plt"
   ]
  },
  {
   "cell_type": "code",
   "execution_count": 3,
   "metadata": {},
   "outputs": [],
   "source": [
    "init_vals_mc1 = {\"alpha_i\": \"0.4\",\n",
    "                 \"alpha_e\": \"0.2\",\n",
    "                 \"Na_i\": \"15.510234830675616\",\n",
    "                 \"K_i\": \"99.19015487718889\",\n",
    "                 \"Cl_i\": \"5.064077397202017\",\n",
    "                 \"Na_e\": \"146.5802367864952\",\n",
    "                 \"K_e\": \"3.018983797774815\",\n",
    "                 \"Cl_e\": \"133.87184520559637\",\n",
    "                 \"phi_i\": \"-0.08466809466757282\",\n",
    "                 \"phi_e\": \"0.0\", \n",
    "                \"j_pump\":\"0.49300808260605866\"}\n",
    "init_vals_mc2 = {\"alpha_i\": \"0.4\",\n",
    "               \"alpha_e\": \"0.2\",\n",
    "               \"Na_i\": \"16.01687043298563\",\n",
    "               \"K_i\": \"101.8119945467372\",\n",
    "               \"Cl_i\": \"8.178137436692428\",\n",
    "               \"Na_e\": \"140.49833715718293\",\n",
    "               \"K_e\": \"2.843932883374001\",\n",
    "               \"Cl_e\": \"127.64372512661636\",\n",
    "               \"phi_i\": \"-0.08602575967833817\",\n",
    "               \"phi_e\": \"0.0\",\n",
    "                 \"j_pump\": \"0.4910206924444243\"}\n",
    "init_vals_mc3 = {\"alpha_i\": \"0.4\",\n",
    "                 \"alpha_e\": \"0.2\",\n",
    "                 \"Na_i\": \"15.510281172306579\",\n",
    "                 \"K_i\": \"99.18951634974886\",\n",
    "                 \"Cl_i\": \"5.064058134333789\",\n",
    "                 \"HCO3_i\": \"8.415887810925824\",\n",
    "                 \"Na_e\": \"146.58022949539213\",\n",
    "                 \"K_e\": \"3.02017546049593\",\n",
    "                 \"Cl_e\": \"133.87188373133282\",\n",
    "                 \"HCO3_e\": \"14.068224378148397\",\n",
    "                 \"phi_i\": \"-0.08465790884483847\",\n",
    "                 \"phi_e\": \"0.0\", \n",
    "                 \"j_pump\": \"0.4930734140830999\"\n",
    "                }\n",
    "init_vals_mc4 = {\"alpha_i\": \"0.4\",\n",
    "                 \"alpha_e\": \"0.2\",\n",
    "                 \"Na_i\": \"15.510234830675616\",\n",
    "                 \"K_i\": \"99.19015487718889\",\n",
    "                 \"Cl_i\": \"5.064077397202017\",\n",
    "                 \"Na_e\": \"146.5802367864952\",\n",
    "                 \"K_e\": \"3.018983797774815\",\n",
    "                 \"Cl_e\": \"133.87184520559637\",\n",
    "                 \"phi_i\": \"-0.08466809466757282\",\n",
    "                 \"phi_e\": \"0.0\", \n",
    "                \"j_pump\": \"0.49300808260605866\"}\n",
    "init_vals_mc5 = {\"alpha_i\": \"0.4\",\n",
    "                 \"alpha_e\": \"0.2\",\n",
    "                 \"Na_i\": \"14.872969584642725\",\n",
    "                 \"K_i\": \"98.52063389964302\",\n",
    "                 \"Cl_i\": \"3.691088150654625\",\n",
    "                 \"HCO3_i\": \"8.525956640279082\",\n",
    "                 \"Na_e\": \"149.17352263058513\",\n",
    "                 \"K_e\": \"3.0392704008382467\",\n",
    "                 \"Cl_e\": \"136.61782369869186\",\n",
    "                 \"HCO3_e\": \"13.848086719442074\",\n",
    "                 \"phi_i\": \"-0.08468533324616204\",\n",
    "                 \"phi_e\": \"0.0\", \n",
    "                \"j_pump\": \"0.4833926223714513\"}\n",
    "init_vals_mc7 = {\"alpha_i\": \"0.4\",\n",
    "                 \"alpha_e\": \"0.2\",\n",
    "                 \"Na_i\": \"15.510234830675616\",\n",
    "                 \"K_i\": \"99.19015487718889\",\n",
    "                 \"Cl_i\": \"5.064077397202017\",\n",
    "                 \"Na_e\": \"146.5802367864952\",\n",
    "                 \"K_e\": \"3.018983797774815\",\n",
    "                 \"Cl_e\": \"133.87184520559637\",\n",
    "                 \"phi_i\": \"-0.08466809466757282\",\n",
    "                 \"phi_e\": \"0.0\", \n",
    "                \"j_pump\": \"0.49251243987141136\"}\n",
    "\n",
    "list_of_dicts = [init_vals_mc1, init_vals_mc2, init_vals_mc3, init_vals_mc4, init_vals_mc5, init_vals_mc7]\n",
    "init_vals = {}\n",
    "keys = [\"alpha_i\", \"alpha_e\", \"Na_i\", \"K_i\", \"Cl_i\", \"HCO3_i\", \"Na_e\", \"K_e\", \"Cl_e\", \"HCO3_e\", \"phi_i\", \"phi_e\", \"j_pump\"]\n",
    "for dictionary in list_of_dicts:\n",
    "    for key in keys:\n",
    "        if key not in init_vals:\n",
    "            init_vals[key] = []\n",
    "        if key not in dictionary:\n",
    "            init_vals[key].append('na')\n",
    "        else:\n",
    "            init_vals[key].append(float(dictionary[key]))\n",
    "init_vals = pd.DataFrame(data=init_vals, index=['MC1', 'MC2', 'MC3', 'MC4', 'MC5', 'MC7'], columns=keys)\n"
   ]
  },
  {
   "cell_type": "code",
   "execution_count": 4,
   "metadata": {},
   "outputs": [],
   "source": [
    "R = 8.315\n",
    "T = 300\n",
    "F = 96490\n",
    "init_vals['E_Na'] = (R * T / F) * np.log(init_vals['Na_i'] / init_vals['Na_e'])\n",
    "init_vals['E_K'] = (R * T / F) * np.log(init_vals['K_i'] / init_vals['K_e'])\n",
    "init_vals['E_Cl'] = (R * T / -F) * np.log(init_vals['Cl_i'] / init_vals['Cl_e'])"
   ]
  },
  {
   "cell_type": "code",
   "execution_count": 7,
   "metadata": {},
   "outputs": [
    {
     "data": {
      "text/html": [
       "<table border=\"1\" class=\"dataframe\">\n",
       "  <thead>\n",
       "    <tr style=\"text-align: right;\">\n",
       "      <th></th>\n",
       "      <th>alpha_i</th>\n",
       "      <th>alpha_e</th>\n",
       "      <th>Na_i</th>\n",
       "      <th>K_i</th>\n",
       "      <th>Cl_i</th>\n",
       "      <th>HCO3_i</th>\n",
       "      <th>Na_e</th>\n",
       "      <th>K_e</th>\n",
       "      <th>Cl_e</th>\n",
       "      <th>HCO3_e</th>\n",
       "      <th>phi_i</th>\n",
       "      <th>phi_e</th>\n",
       "      <th>j_pump</th>\n",
       "      <th>E_Na</th>\n",
       "      <th>E_K</th>\n",
       "      <th>E_Cl</th>\n",
       "    </tr>\n",
       "  </thead>\n",
       "  <tbody>\n",
       "    <tr>\n",
       "      <th>MC1</th>\n",
       "      <td>0.4</td>\n",
       "      <td>0.2</td>\n",
       "      <td>15.510235</td>\n",
       "      <td>99.190155</td>\n",
       "      <td>5.064077</td>\n",
       "      <td>na</td>\n",
       "      <td>146.580237</td>\n",
       "      <td>3.018984</td>\n",
       "      <td>133.871845</td>\n",
       "      <td>na</td>\n",
       "      <td>-0.084668</td>\n",
       "      <td>0.0</td>\n",
       "      <td>0.493008</td>\n",
       "      <td>-0.058066</td>\n",
       "      <td>0.090280</td>\n",
       "      <td>0.084659</td>\n",
       "    </tr>\n",
       "    <tr>\n",
       "      <th>MC2</th>\n",
       "      <td>0.4</td>\n",
       "      <td>0.2</td>\n",
       "      <td>16.016870</td>\n",
       "      <td>101.811995</td>\n",
       "      <td>8.178137</td>\n",
       "      <td>na</td>\n",
       "      <td>140.498337</td>\n",
       "      <td>2.843933</td>\n",
       "      <td>127.643725</td>\n",
       "      <td>na</td>\n",
       "      <td>-0.086026</td>\n",
       "      <td>0.0</td>\n",
       "      <td>0.491021</td>\n",
       "      <td>-0.056140</td>\n",
       "      <td>0.092498</td>\n",
       "      <td>0.071037</td>\n",
       "    </tr>\n",
       "    <tr>\n",
       "      <th>MC3</th>\n",
       "      <td>0.4</td>\n",
       "      <td>0.2</td>\n",
       "      <td>15.510281</td>\n",
       "      <td>99.189516</td>\n",
       "      <td>5.064058</td>\n",
       "      <td>8.415888</td>\n",
       "      <td>146.580229</td>\n",
       "      <td>3.020175</td>\n",
       "      <td>133.871884</td>\n",
       "      <td>14.068224</td>\n",
       "      <td>-0.084658</td>\n",
       "      <td>0.0</td>\n",
       "      <td>0.493073</td>\n",
       "      <td>-0.058066</td>\n",
       "      <td>0.090269</td>\n",
       "      <td>0.084659</td>\n",
       "    </tr>\n",
       "    <tr>\n",
       "      <th>MC4</th>\n",
       "      <td>0.4</td>\n",
       "      <td>0.2</td>\n",
       "      <td>15.510235</td>\n",
       "      <td>99.190155</td>\n",
       "      <td>5.064077</td>\n",
       "      <td>na</td>\n",
       "      <td>146.580237</td>\n",
       "      <td>3.018984</td>\n",
       "      <td>133.871845</td>\n",
       "      <td>na</td>\n",
       "      <td>-0.084668</td>\n",
       "      <td>0.0</td>\n",
       "      <td>0.493008</td>\n",
       "      <td>-0.058066</td>\n",
       "      <td>0.090280</td>\n",
       "      <td>0.084659</td>\n",
       "    </tr>\n",
       "    <tr>\n",
       "      <th>MC5</th>\n",
       "      <td>0.4</td>\n",
       "      <td>0.2</td>\n",
       "      <td>14.872970</td>\n",
       "      <td>98.520634</td>\n",
       "      <td>3.691088</td>\n",
       "      <td>8.525957</td>\n",
       "      <td>149.173523</td>\n",
       "      <td>3.039270</td>\n",
       "      <td>136.617824</td>\n",
       "      <td>13.848087</td>\n",
       "      <td>-0.084685</td>\n",
       "      <td>0.0</td>\n",
       "      <td>0.483393</td>\n",
       "      <td>-0.059604</td>\n",
       "      <td>0.089931</td>\n",
       "      <td>0.093360</td>\n",
       "    </tr>\n",
       "    <tr>\n",
       "      <th>MC7</th>\n",
       "      <td>0.4</td>\n",
       "      <td>0.2</td>\n",
       "      <td>15.510235</td>\n",
       "      <td>99.190155</td>\n",
       "      <td>5.064077</td>\n",
       "      <td>na</td>\n",
       "      <td>146.580237</td>\n",
       "      <td>3.018984</td>\n",
       "      <td>133.871845</td>\n",
       "      <td>na</td>\n",
       "      <td>-0.084668</td>\n",
       "      <td>0.0</td>\n",
       "      <td>0.492512</td>\n",
       "      <td>-0.058066</td>\n",
       "      <td>0.090280</td>\n",
       "      <td>0.084659</td>\n",
       "    </tr>\n",
       "  </tbody>\n",
       "</table>"
      ],
      "text/plain": [
       "<IPython.core.display.HTML object>"
      ]
     },
     "metadata": {},
     "output_type": "display_data"
    }
   ],
   "source": [
    "display(HTML(init_vals[['']].to_html()))"
   ]
  },
  {
   "cell_type": "code",
   "execution_count": 8,
   "metadata": {},
   "outputs": [
    {
     "data": {
      "text/plain": [
       "<matplotlib.legend.Legend at 0x144239450>"
      ]
     },
     "execution_count": 8,
     "metadata": {},
     "output_type": "execute_result"
    },
    {
     "data": {
      "image/png": "[encoded data removed]",
      "text/plain": [
       "<Figure size 432x288 with 1 Axes>"
      ]
     },
     "metadata": {
      "needs_background": "light"
     },
     "output_type": "display_data"
    }
   ],
   "source": [
    "x = init_vals['phi_i']\n",
    "y = init_vals['j_pump']\n",
    "\n",
    "plts = []\n",
    "for i, val in enumerate(x):\n",
    "    a = plt.scatter(val, y[i])\n",
    "plt.legend(['MC1', 'MC2', 'MC3', 'MC4', 'MC5', 'MC7'])"
   ]
  },
  {
   "cell_type": "code",
   "execution_count": 13,
   "metadata": {},
   "outputs": [
    {
     "data": {
      "image/png": "[encoded data removed]",
      "text/plain": [
       "<Figure size 432x288 with 1 Axes>"
      ]
     },
     "metadata": {},
     "output_type": "display_data"
    }
   ],
   "source": [
    "y = init_vals['j_pump'].iloc[0:5] / init_vals['j_pump']['MC1']\n",
    "sns.set_style('white')\n",
    "ax = sns.scatterplot(data=y)\n",
    "ax.set(ylabel='Normalized NaK Pump Flux', xlabel='Model Configuration')\n",
    "sns.despine()\n",
    "ax.get_figure().savefig(\"./results/figures/pump_flux.png\", dpi=600)"
   ]
  },
  {
   "cell_type": "code",
   "execution_count": 12,
   "metadata": {},
   "outputs": [
    {
     "data": {
      "image/png": "[encoded data removed]",
      "text/plain": [
       "<Figure size 432x288 with 1 Axes>"
      ]
     },
     "metadata": {},
     "output_type": "display_data"
    }
   ],
   "source": [
    "y = init_vals['phi_i'].iloc[0:5] / init_vals['phi_i']['MC1']\n",
    "sns.set_style('white')\n",
    "ax = sns.scatterplot(data=y)\n",
    "ax.set(ylabel='Normalized Resting Membrane Potential', xlabel='Model Configuration')\n",
    "sns.despine()\n",
    "ax.get_figure().savefig(\"./results/figures/resting_membrane_voltage.png\", dpi=600)"
   ]
  },
  {
   "cell_type": "code",
   "execution_count": null,
   "metadata": {},
   "outputs": [],
   "source": [
    "# Getting back the objects:\n",
    "with open('MC1_timedata.pkl') as f:  # Python 3: open(..., 'rb')\n",
    "    obj0, obj1, obj2 = pickle.load(f)"
   ]
  }
 ],
 "metadata": {
  "kernelspec": {
   "display_name": "simula_environment",
   "language": "python",
   "name": "simula_environment"
  },
  "language_info": {
   "codemirror_mode": {
    "name": "ipython",
    "version": 3
   },
   "file_extension": ".py",
   "mimetype": "text/x-python",
   "name": "python",
   "nbconvert_exporter": "python",
   "pygments_lexer": "ipython3",
   "version": "3.10.11"
  }
 },
 "nbformat": 4,
 "nbformat_minor": 4
}
